{
  "nbformat": 4,
  "nbformat_minor": 0,
  "metadata": {
    "colab": {
      "provenance": [],
      "authorship_tag": "ABX9TyOiSjkqRGsPxjJ3eTHPYMGi",
      "include_colab_link": true
    },
    "kernelspec": {
      "name": "python3",
      "display_name": "Python 3"
    },
    "language_info": {
      "name": "python"
    }
  },
  "cells": [
    {
      "cell_type": "markdown",
      "metadata": {
        "id": "view-in-github",
        "colab_type": "text"
      },
      "source": [
        "<a href=\"https://colab.research.google.com/github/aninditarhm/2025_pengolahan_citra_ti2c/blob/main/Jobsheet_01.ipynb\" target=\"_parent\"><img src=\"https://colab.research.google.com/assets/colab-badge.svg\" alt=\"Open In Colab\"/></a>"
      ]
    },
    {
      "cell_type": "markdown",
      "source": [
        "# Jobsheet 1. Dasar Berkas Gambar (Citra)"
      ],
      "metadata": {
        "id": "7IK8oGUdxTTb"
      }
    },
    {
      "cell_type": "markdown",
      "source": [
        "## Praktikum 01. Mendefinisikan Istilah bit, byte, kilobyte, megabyte dll pada citra"
      ],
      "metadata": {
        "id": "_lpf_xNyxsIO"
      }
    },
    {
      "cell_type": "code",
      "execution_count": null,
      "metadata": {
        "id": "Vg3s0Wruu0ld"
      },
      "outputs": [],
      "source": [
        "import numpy as np\n",
        "import matplotlib.pyplot as plt\n",
        "from skimage import data"
      ]
    },
    {
      "cell_type": "code",
      "source": [],
      "metadata": {
        "id": "x3148VPhyLh8"
      },
      "execution_count": null,
      "outputs": []
    }
  ]
}